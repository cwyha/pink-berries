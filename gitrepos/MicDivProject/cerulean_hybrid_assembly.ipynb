{
 "cells": [
  {
   "cell_type": "markdown",
   "metadata": {},
   "source": [
    "This tutorial is a bit funny, because it includes the installation of Jupyter Notebook while being written in a Jupyter notebook. Oh well. :)\n",
    "\n",
    "# Setting up your computer\n",
    "\n",
    "**EC2 Instance Specs**\n",
    "\n",
    "First, start an Amazon Web Services instance (m3.2xlarge) on the SMRT community AMI provided by PacBio. We need the SMRT tools because we need to use BLASR, but installing BLASR on its own is pretty hard. We need two security rules when running these two things: 8888, for JuPyter notebooks, and 8080, for running the SMRT portal.\n",
    "\n",
    "**Upgrading the System**\n",
    "\n",
    "Unfortunately, the PacBio AMI is running on the Lucid version of Linux. We need it to run on a more updated version, and to do that, we'll have to upgrade it to Precise, then Trusty, then Xenial. Yikes, right? Run the following line-by-line:\n",
    " \n",
    "```\n",
    "do-release-upgrade\n",
    "sudo apt-get install -o APT::Immediate-Configure=false -f apt python-minimal\n",
    "sudo apt-get update\n",
    "sudo apt-get upgrade\n",
    "sudo apt-get dist-upgrade\n",
    "\n",
    "```\n",
    "\n",
    "Now, run ```lsb_release -a``` to see what release you're running on. It should be Precise.\n"
   ]
  },
  {
   "cell_type": "code",
   "execution_count": 3,
   "metadata": {
    "collapsed": false
   },
   "outputs": [
    {
     "name": "stdout",
     "output_type": "stream",
     "text": [
      "No LSB modules are available.\r\n",
      "Distributor ID:\tUbuntu\r\n",
      "Description:\tUbuntu 12.04.5 LTS\r\n",
      "Release:\t12.04\r\n",
      "Codename:\tprecise\r\n"
     ]
    }
   ],
   "source": [
    "!lsb_release -a"
   ]
  },
  {
   "cell_type": "markdown",
   "metadata": {},
   "source": [
    "**Getting Jupyter Running**\n",
    "\n",
    "Next, install Anaconda using the following commands.  Type \"yes\" when prompted.\n",
    "\n",
    "```\n",
    "wget https://repo.continuum.io/archive/Anaconda3-4.3.1-Linux-x86_64.sh\n",
    "bash Anaconda3-4.3.1-Linux-x86_64.sh\n",
    "```\n"
   ]
  },
  {
   "cell_type": "markdown",
   "metadata": {},
   "source": [
    "Download the config file I provided (on github) and move it to the proper folder."
   ]
  },
  {
   "cell_type": "code",
   "execution_count": 3,
   "metadata": {
    "collapsed": false
   },
   "outputs": [
    {
     "name": "stdout",
     "output_type": "stream",
     "text": [
      "--2017-04-19 19:29:43--  https://raw.githubusercontent.com/rhine3/MicDivProject/master/jupyter_notebook_config.py\r\n",
      "Resolving raw.githubusercontent.com (raw.githubusercontent.com)... 151.101.32.133\r\n",
      "Connecting to raw.githubusercontent.com (raw.githubusercontent.com)|151.101.32.133|:443... connected.\r\n",
      "HTTP request sent, awaiting response... 200 OK\r\n",
      "Length: 21786 (21K) [text/plain]\r\n",
      "Saving to: `jupyter_notebook_config.py'\r\n",
      "\r\n",
      "\r",
      " 0% [                                       ] 0           --.-K/s              \r",
      "100%[======================================>] 21,786      --.-K/s   in 0s      \r\n",
      "\r\n",
      "2017-04-19 19:29:43 (48.2 MB/s) - `jupyter_notebook_config.py' saved [21786/21786]\r\n",
      "\r\n"
     ]
    }
   ],
   "source": [
    "!wget https://raw.githubusercontent.com/rhine3/MicDivProject/master/jupyter_notebook_config.py\n",
    "!mv jupyter_notebook_config.py ~/.jupyter"
   ]
  },
  {
   "cell_type": "markdown",
   "metadata": {},
   "source": [
    "Now generate a new password and paste that password into the proper part of the file. (Replace \"reginald\" below with your desired password, run the script, then edit the config file to put the output, 'sha1:...', after the c.NotebookApp.password line"
   ]
  },
  {
   "cell_type": "code",
   "execution_count": 1,
   "metadata": {
    "collapsed": false
   },
   "outputs": [
    {
     "data": {
      "text/plain": [
       "'sha1:80760d70e7a0:f846329fea83f299e52763e79d35ddd05482a558'"
      ]
     },
     "execution_count": 1,
     "metadata": {},
     "output_type": "execute_result"
    }
   ],
   "source": [
    "#Note: if you run this command in an unsecured Jupyter notebook, \n",
    "#      YOUR PASSWORD WILL NOT BE SECURE\n",
    "\n",
    "from IPython.lib import passwd\n",
    "password = passwd(\"reginald\")\n",
    "password"
   ]
  },
  {
   "cell_type": "markdown",
   "metadata": {},
   "source": [
    "**Installing Git**\n",
    "\n",
    "If you want to do this... ```sudo apt-get install git``` should work."
   ]
  },
  {
   "cell_type": "markdown",
   "metadata": {},
   "source": [
    "# Installing Dependencies\n",
    "\n",
    "Now we're really ready to rock and roll... at installing the dependencies of Cerulean. These are specified on the Cerulean Sourceforge site (https://sourceforge.net/projects/ceruleanassembler/files/?source=navbar). \n",
    "\n",
    "Since the dependency installations require some interactivity, they can't be run from this notebook. Instead, make sure you're in your home folder and run the following commands line-by-line, pressing y when prompted. (Some dependencies listed on the site, like the Python libraries _numpy_ and _matplotlib_, should already be installed on the instance.)\n",
    "\n",
    "* PBJelly: https://sourceforge.net/projects/pb-jelly/ \n",
    "\n",
    "**Installing ABySS** \n",
    "\n",
    "Quite easy. Just follow the prompts:\n",
    "``` \n",
    "sudo apt-get install abyss\n",
    "```"
   ]
  },
  {
   "cell_type": "markdown",
   "metadata": {},
   "source": [
    "**Installing Cerulean**\n",
    "\n",
    "Now that the dependencies are installed, download the Cerulean tarball itself and extract the files, then delete the tarball. The flags used for tar decompression below are:\n",
    "\n",
    "* x - e[x]tract files (not compress)\n",
    "* v - [v]erbose (tells you what files are being extracted)\n",
    "* f - [f]ile (tells you that the tarball filename is about to follow)"
   ]
  },
  {
   "cell_type": "code",
   "execution_count": null,
   "metadata": {
    "collapsed": true
   },
   "outputs": [],
   "source": [
    "!wget \"https://downloads.sourceforge.net/project/ceruleanassembler/Cerulean_v_0_1.tar.gz\"\n",
    "!tar -xvf Cerulean_v_0_1.tar.gz\n",
    "!rm Cerulean_v_0_1.tar.gz"
   ]
  },
  {
   "cell_type": "markdown",
   "metadata": {},
   "source": [
    "Next, grab"
   ]
  }
 ],
 "metadata": {
  "kernelspec": {
   "display_name": "Python 2",
   "language": "python",
   "name": "python2"
  },
  "language_info": {
   "codemirror_mode": {
    "name": "ipython",
    "version": 2
   },
   "file_extension": ".py",
   "mimetype": "text/x-python",
   "name": "python",
   "nbconvert_exporter": "python",
   "pygments_lexer": "ipython2",
   "version": "2.7.13"
  }
 },
 "nbformat": 4,
 "nbformat_minor": 1
}
