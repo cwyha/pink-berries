{
 "cells": [
  {
   "cell_type": "markdown",
   "metadata": {},
   "source": [
    "This tutorial is a bit funny, because it includes the installation of Jupyter Notebook while being written in a Jupyter notebook. Oh well. :)\n",
    "\n",
    "**Starting up EC2 Instance**\n",
    "\n",
    "First, start an Amazon Web Services instance (m3.2xlarge) on the SMRT community AMI provided by PacBio. We need the SMRT tools because we need to use BLASR, but installing BLASR on its own is pretty hard. We need two security rules when running these two things: 8888, for JuPyter notebooks, and 8080, for running the SMRT portal.\n",
    "\n",
    "**Upgrading the System**\n",
    "\n",
    "Unfortunately, the PacBio AMI is running on the Lucid version of Linux. We need it to run on Precise, a more updated version. We'll have to update the whole shabang. Run the following line-by-line:\n",
    " \n",
    "```\n",
    "do-release-upgrade\n",
    "sudo apt-get install -o APT::Immediate-Configure=false -f apt python-minimal\n",
    "sudo apt-get update\n",
    "sudo apt-get upgrade\n",
    "sudo apt-get dist-upgrade\n",
    "\n",
    "```\n",
    "\n",
    "Now, run ```lsb_release -a``` to see what release you're running on. It should be Precise.\n"
   ]
  },
  {
   "cell_type": "code",
   "execution_count": 3,
   "metadata": {
    "collapsed": false
   },
   "outputs": [
    {
     "name": "stdout",
     "output_type": "stream",
     "text": [
      "No LSB modules are available.\r\n",
      "Distributor ID:\tUbuntu\r\n",
      "Description:\tUbuntu 12.04.5 LTS\r\n",
      "Release:\t12.04\r\n",
      "Codename:\tprecise\r\n"
     ]
    }
   ],
   "source": [
    "!lsb_release -a"
   ]
  },
  {
   "cell_type": "markdown",
   "metadata": {},
   "source": [
    "**Getting Jupyter Running**\n",
    "\n",
    "Next, install Anaconda using the following commands.  Type \"yes\" when prompted.\n",
    "\n",
    "```\n",
    "wget https://repo.continuum.io/archive/Anaconda3-4.3.1-Linux-x86_64.sh\n",
    "bash Anaconda3-4.3.1-Linux-x86_64.sh\n",
    "```\n",
    "\n",
    "To make a secure connection between our notebook, we'll have to set up a password and a key/certification.\n",
    "\n",
    "* Generate key and certification:\n",
    "```\n",
    "cd /home/ubuntu/.jupyter\n",
    "openssl req -x509 -nodes -days 365 -newkey rsa:1024 -keyout mykey.key -out mycert.pem\n",
    "```\n",
    "\n",
    "* Generate password:"
   ]
  },
  {
   "cell_type": "code",
   "execution_count": 15,
   "metadata": {
    "collapsed": false
   },
   "outputs": [
    {
     "data": {
      "text/plain": [
       "'sha1:06ce83a4b754:9df093a0498353b2c0950ca7ff0eff0f5839e541'"
      ]
     },
     "execution_count": 15,
     "metadata": {},
     "output_type": "execute_result"
    }
   ],
   "source": [
    "#Note: if you run this command in an unsecured Jupyter notebook, \n",
    "#      YOUR PASSWORD WILL NOT BE SECURE\n",
    "\n",
    "from IPython.lib import passwd\n",
    "password = passwd(\"reginald\")\n",
    "password"
   ]
  },
  {
   "cell_type": "markdown",
   "metadata": {},
   "source": [
    "* Download file:"
   ]
  },
  {
   "cell_type": "code",
   "execution_count": null,
   "metadata": {
    "collapsed": true
   },
   "outputs": [],
   "source": [
    "!wget "
   ]
  },
  {
   "cell_type": "markdown",
   "metadata": {},
   "source": [
    "* Add things to file"
   ]
  },
  {
   "cell_type": "markdown",
   "metadata": {},
   "source": [
    "**Installing Dependencies**\n",
    "\n",
    "Now we're really ready to rock and roll... at installing the dependencies of Cerulean. These are specified on the Cerulean Sourceforge site (https://sourceforge.net/projects/ceruleanassembler/files/?source=navbar). \n",
    "\n",
    "Since the dependency installations require some interactivity, they can't be run from this notebook. Instead, make sure you're in your home folder and run the following commands line-by-line, pressing y when prompted. (Some dependencies listed on the site, like the Python libraries _numpy_ and _matplotlib_, should already be installed on the instance.)\n",
    "\n",
    "* PBJelly: https://sourceforge.net/projects/pb-jelly/ \n",
    "\n",
    "**Installing ABySS** \n",
    "\n",
    "Quite easy. Just follow the prompts:\n",
    "``` \n",
    "sudo apt-get install abyss\n",
    "```"
   ]
  },
  {
   "cell_type": "markdown",
   "metadata": {},
   "source": [
    "**Installing BLASR**\n",
    "\n",
    "This is a slightly more involved process. First, you will need to install ```cmake```, if it's not already installed, and upgrade it to the latest version. Run the following line-by-line; you will occasionally be prompted to continue:\n",
    " \n",
    "```\n",
    "sudo apt-get install software-properties-common\n",
    "sudo add-apt-repository ppa:george-edison55/cmake-3.x\n",
    "sudo apt-get update --only-upgrade cmake\n",
    "sudo apt-get install cmake\n",
    "sudo apt-get upgrade --only-upgrade cmake\n",
    "\n",
    "```\n",
    "Hopefully the lines appended with ```--only-upgrade cmake``` will work. I just ran these alone and realized that they upgraded literally every package. That took a while! "
   ]
  },
  {
   "cell_type": "markdown",
   "metadata": {},
   "source": [
    "Next, actually install BLASR:"
   ]
  },
  {
   "cell_type": "code",
   "execution_count": 1,
   "metadata": {
    "collapsed": false
   },
   "outputs": [
    {
     "ename": "SyntaxError",
     "evalue": "invalid syntax (<ipython-input-1-cdf9d73b8517>, line 1)",
     "output_type": "error",
     "traceback": [
      "\u001b[1;36m  File \u001b[1;32m\"<ipython-input-1-cdf9d73b8517>\"\u001b[1;36m, line \u001b[1;32m1\u001b[0m\n\u001b[1;33m    git clone git://github.com/PacificBiosciences/blasr.git && cd blasr\u001b[0m\n\u001b[1;37m            ^\u001b[0m\n\u001b[1;31mSyntaxError\u001b[0m\u001b[1;31m:\u001b[0m invalid syntax\n"
     ]
    }
   ],
   "source": [
    "!git clone git://github.com/PacificBiosciences/blasr.git && cd blasr\n",
    "!git submodule update --init --remote\n",
    "!mkdir build && cd build\n",
    "!cmake .. && make"
   ]
  },
  {
   "cell_type": "markdown",
   "metadata": {},
   "source": [
    "**Installing Cerulean**\n",
    "\n",
    "Now that the dependencies are installed, download the Cerulean tarball itself and extract the files, then delete the tarball. The flags used for tar decompression below are:\n",
    "\n",
    "* x - e[x]tract files (not compress)\n",
    "* v - [v]erbose (tells you what files are being extracted)\n",
    "* f - [f]ile (tells you that the tarball filename is about to follow)"
   ]
  },
  {
   "cell_type": "code",
   "execution_count": null,
   "metadata": {
    "collapsed": true
   },
   "outputs": [],
   "source": [
    "!wget \"https://downloads.sourceforge.net/project/ceruleanassembler/Cerulean_v_0_1.tar.gz\"\n",
    "!tar -xvf Cerulean_v_0_1.tar.gz\n",
    "!rm Cerulean_v_0_1.tar.gz"
   ]
  },
  {
   "cell_type": "markdown",
   "metadata": {},
   "source": [
    "Next, grab"
   ]
  }
 ],
 "metadata": {
  "kernelspec": {
   "display_name": "Python 3",
   "language": "python",
   "name": "python3"
  },
  "language_info": {
   "codemirror_mode": {
    "name": "ipython",
    "version": 3
   },
   "file_extension": ".py",
   "mimetype": "text/x-python",
   "name": "python",
   "nbconvert_exporter": "python",
   "pygments_lexer": "ipython3",
   "version": "3.6.0"
  }
 },
 "nbformat": 4,
 "nbformat_minor": 0
}
